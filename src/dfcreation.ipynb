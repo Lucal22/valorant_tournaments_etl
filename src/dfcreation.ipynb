{
 "cells": [
  {
   "cell_type": "code",
   "execution_count": 1,
   "id": "544b1188",
   "metadata": {},
   "outputs": [],
   "source": [
    "import pandas as pd"
   ]
  },
  {
   "cell_type": "code",
   "execution_count": 2,
   "id": "96051c03",
   "metadata": {},
   "outputs": [],
   "source": [
    "# Titulos\n",
    "title_tournament_info = ['url','tournament','year','tournament phase','date','team 1','team 2','match','match id', 'game','patch']\n",
    "title_match_info = ['playername','playercountry','teamname','agent','first_to_ban','ban1','ban2','ban3','ban4','pick1','pick2','pick3','pick4','remains','map','gamelenght','first_side', 'result']\n",
    "title_overall_stats = ['overall_rating','overall_ACS','overall_K','overall_D','overall_A','overall_KD_avr','overall_KAST','overall_ADR','overall_HS%','overall_FK','overall_FD','overall_F_avr']\n",
    "title_attack_stats = ['attack_rating','attack_ACS','attack_K','attack_D','attack_A','attack_KD_avr','attack_KAST','attack_ADR','attack_HS%','attack_FK','attack_FD','attack_F_avr']\n",
    "title_defend_stats = ['defend_rating','defend_ACS','defend_K','defend_D','defend_A','defend_KD_avr','defend_KAST','defend_ADR','defend_HS%','defend_FK','defend_FD','defend_F_avr']\n",
    "title_round_by_round = ['r1','r2','r3','r4','r5','r6','r7','r8','r9','r10','r11','r12','r13','r14','r15','r16','r17','r18','r19','r20','r21','r22','r23','r24']"
   ]
  },
  {
   "cell_type": "code",
   "execution_count": 3,
   "id": "83b532d0",
   "metadata": {},
   "outputs": [],
   "source": [
    "# Colocando títulos no Data Frame\n",
    "valorant_df = pd.DataFrame(columns= title_tournament_info + title_match_info + title_round_by_round + title_overall_stats + title_attack_stats + title_defend_stats)"
   ]
  },
  {
   "cell_type": "code",
   "execution_count": 4,
   "id": "b9c774f5",
   "metadata": {},
   "outputs": [],
   "source": [
    "valorant_df.to_csv('../../Dados/2025/2025VALORANTTOURNAMENTS.csv', index=False)"
   ]
  }
 ],
 "metadata": {
  "kernelspec": {
   "display_name": "base",
   "language": "python",
   "name": "python3"
  },
  "language_info": {
   "codemirror_mode": {
    "name": "ipython",
    "version": 3
   },
   "file_extension": ".py",
   "mimetype": "text/x-python",
   "name": "python",
   "nbconvert_exporter": "python",
   "pygments_lexer": "ipython3",
   "version": "3.11.7"
  }
 },
 "nbformat": 4,
 "nbformat_minor": 5
}
